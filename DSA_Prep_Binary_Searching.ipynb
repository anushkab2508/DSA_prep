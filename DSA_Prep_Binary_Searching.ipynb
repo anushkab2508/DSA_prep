{
  "nbformat": 4,
  "nbformat_minor": 0,
  "metadata": {
    "colab": {
      "provenance": []
    },
    "kernelspec": {
      "name": "python3",
      "display_name": "Python 3"
    },
    "language_info": {
      "name": "python"
    }
  },
  "cells": [
    {
      "cell_type": "markdown",
      "source": [
        "# Binary Search\n",
        "\n",
        "\n",
        "\n",
        "*   Search in log(n) time\n",
        "*   Two ways to do the algorithm - (1) Iterative method (2) Recursive method\n",
        "\n",
        "\n",
        "\n",
        "\n",
        "\n"
      ],
      "metadata": {
        "id": "tHpGU_4kmd83"
      }
    },
    {
      "cell_type": "code",
      "source": [
        "def iterative(arr, target):\n",
        "    left = 0\n",
        "    right = len(arr) - 1\n",
        "    while left <= right:\n",
        "        mid = left + (right - left) // 2\n",
        "        if arr[mid] == target:\n",
        "            return mid\n",
        "        elif arr[mid] < target:\n",
        "            left = mid + 1\n",
        "        else:\n",
        "            right = mid - 1\n",
        "    return -1"
      ],
      "metadata": {
        "id": "QvbUu9S4m6OM"
      },
      "execution_count": null,
      "outputs": []
    },
    {
      "cell_type": "code",
      "source": [
        "iterative([1,2,3,4,5], 4)"
      ],
      "metadata": {
        "colab": {
          "base_uri": "https://localhost:8080/"
        },
        "id": "vOZl0oJUn5QS",
        "outputId": "1514a754-a3c8-4d0a-9d8b-b4c5e1e241a2"
      },
      "execution_count": null,
      "outputs": [
        {
          "output_type": "execute_result",
          "data": {
            "text/plain": [
              "3"
            ]
          },
          "metadata": {},
          "execution_count": 13
        }
      ]
    },
    {
      "cell_type": "code",
      "source": [
        "def recursive(nums, low, high, target):\n",
        "    if low > high:\n",
        "        return -1\n",
        "    mid = (low + high) // 2\n",
        "    if nums[mid] == target:\n",
        "        return mid\n",
        "    elif target > nums[mid]:\n",
        "        return recursive(nums, mid + 1, high, target)\n",
        "    return recursive(nums, low, mid - 1, target)"
      ],
      "metadata": {
        "id": "4YQM9pH6oifF"
      },
      "execution_count": null,
      "outputs": []
    },
    {
      "cell_type": "code",
      "source": [
        "recursive([1,2,3,4,5], 0, 5, 4)"
      ],
      "metadata": {
        "colab": {
          "base_uri": "https://localhost:8080/"
        },
        "id": "7nb156aEp3tB",
        "outputId": "3b90f4d0-d5a4-415b-e2d7-2e3e984a6506"
      },
      "execution_count": null,
      "outputs": [
        {
          "output_type": "execute_result",
          "data": {
            "text/plain": [
              "3"
            ]
          },
          "metadata": {},
          "execution_count": 16
        }
      ]
    },
    {
      "cell_type": "markdown",
      "source": [
        "## Implement Lower Bound\n",
        "**Problem Statement:** Given a sorted array of N integers and an integer x, write a program to find the lower bound of x.\n",
        "\n",
        "The lower bound algorithm finds the first or the smallest index in a sorted array where the value at that index is greater than or equal to a given key i.e. x.\n",
        "\n",
        "The lower bound is the smallest index, ind, where arr[ind] >= x. But if any such index is not found, the lower bound algorithm returns n i.e. size of the given array."
      ],
      "metadata": {
        "id": "6Z_ClTAZqrpu"
      }
    },
    {
      "cell_type": "code",
      "source": [
        "def lowerBound(arr, num):\n",
        "    left = 0\n",
        "    right = len(arr) - 1\n",
        "    while left <= right:\n",
        "        mid = left + (right - left) // 2\n",
        "        if arr[mid] == num:\n",
        "            return mid\n",
        "        elif arr[mid] < num:\n",
        "            left = mid + 1\n",
        "        else:\n",
        "            right = mid - 1\n",
        "    return right + 1"
      ],
      "metadata": {
        "id": "4fFHSdRdrG6b"
      },
      "execution_count": null,
      "outputs": []
    },
    {
      "cell_type": "code",
      "source": [
        "arr = [3, 5, 8, 15, 19]\n",
        "x = 9\n",
        "lowerBound(arr, x)"
      ],
      "metadata": {
        "colab": {
          "base_uri": "https://localhost:8080/"
        },
        "id": "fbewyEltr4ON",
        "outputId": "f065e043-222e-4bb2-e7cd-8e0109277b8c"
      },
      "execution_count": null,
      "outputs": [
        {
          "output_type": "execute_result",
          "data": {
            "text/plain": [
              "3"
            ]
          },
          "metadata": {},
          "execution_count": 19
        }
      ]
    },
    {
      "cell_type": "markdown",
      "source": [
        "## Implement Upper Bound\n",
        "\n",
        "**Problem Statement:** Given a sorted array of N integers and an integer x, write a program to find the upper bound of x.\n",
        "\n",
        "The upper bound algorithm finds the first or the smallest index in a sorted array where the value at that index is greater than the given key i.e. x.\n",
        "\n",
        "The upper bound is the smallest index, ind, where arr[ind] > x.\n",
        "\n",
        "But if any such index is not found, the upper bound algorithm returns n i.e. size of the given array. The main difference between the lower and upper bound is in the condition. For the lower bound the condition was arr[ind] >= x and here, in the case of the upper bound, it is arr[ind] > x."
      ],
      "metadata": {
        "id": "tQ8YEIJDsXWz"
      }
    },
    {
      "cell_type": "code",
      "source": [
        "def upper_bound(arr, num):\n",
        "    left = 0\n",
        "    right = len(arr) - 1\n",
        "    ans = len(arr)\n",
        "    while left <= right:\n",
        "        mid = left + (right - left) // 2\n",
        "        if arr[mid] == num:\n",
        "            ans = mid\n",
        "        elif arr[mid] < num:\n",
        "            left = mid + 1\n",
        "        else:\n",
        "            right = mid - 1\n",
        "    return ans"
      ],
      "metadata": {
        "id": "YHauQwxzsfyd"
      },
      "execution_count": null,
      "outputs": []
    },
    {
      "cell_type": "code",
      "source": [
        "arr = [3, 5, 8, 9, 15, 19]\n",
        "n = 6\n",
        "x = 2\n",
        "upper_bound(arr, x)"
      ],
      "metadata": {
        "colab": {
          "base_uri": "https://localhost:8080/"
        },
        "id": "NsG5F4p81DWf",
        "outputId": "7c249545-8aa2-4f4f-c5c2-8b8103ae7b9c"
      },
      "execution_count": null,
      "outputs": [
        {
          "output_type": "execute_result",
          "data": {
            "text/plain": [
              "6"
            ]
          },
          "metadata": {},
          "execution_count": 27
        }
      ]
    },
    {
      "cell_type": "markdown",
      "source": [
        "## Search Insert Position"
      ],
      "metadata": {
        "id": "B5C33evV7DUj"
      }
    },
    {
      "cell_type": "code",
      "source": [
        "def searchInsert(arr, x) -> int:\n",
        "    n = len(arr)  # size of the array\n",
        "    low = 0\n",
        "    high = n - 1\n",
        "    ans = n\n",
        "\n",
        "    while low <= high:\n",
        "        mid = (low + high) // 2\n",
        "        # maybe an answer\n",
        "        if arr[mid] >= x:\n",
        "            ans = mid\n",
        "            # look for smaller index on the left\n",
        "            high = mid - 1\n",
        "        else:\n",
        "            low = mid + 1  # look on the right\n",
        "\n",
        "    return ans"
      ],
      "metadata": {
        "id": "sC8TbHlr7lJT"
      },
      "execution_count": null,
      "outputs": []
    },
    {
      "cell_type": "markdown",
      "source": [
        "## Floor and Ceil in Sorted Array\n",
        "\n",
        "**Problem Statement:** You’re given an unsorted array arr of n integers and an integer x. Find the floor and ceiling of x in arr[0..n-1].\n",
        "The floor of x is the largest element in the array which is smaller than or equal to x.\n",
        "The ceiling of x is the smallest element in the array greater than or equal to x."
      ],
      "metadata": {
        "id": "Fi8VQm1I8p0s"
      }
    },
    {
      "cell_type": "code",
      "source": [
        "def findFloor(arr, n, x):\n",
        "    low = 0\n",
        "    high = n - 1\n",
        "    ans = -1\n",
        "\n",
        "    while low <= high:\n",
        "        mid = (low + high) // 2\n",
        "        # maybe an answer\n",
        "        if arr[mid] <= x:\n",
        "            ans = arr[mid]\n",
        "            # look for smaller index on the left\n",
        "            low = mid + 1\n",
        "        else:\n",
        "            high = mid - 1  # look on the right\n",
        "\n",
        "    return ans"
      ],
      "metadata": {
        "id": "lv-iS6SH8vMw"
      },
      "execution_count": null,
      "outputs": []
    },
    {
      "cell_type": "code",
      "source": [
        "def findCeil(arr, n, x):\n",
        "    low = 0\n",
        "    high = n - 1\n",
        "    ans = -1\n",
        "\n",
        "    while low <= high:\n",
        "        mid = (low + high) // 2\n",
        "        # maybe an answer\n",
        "        if arr[mid] >= x:\n",
        "            ans = arr[mid]\n",
        "            # look for smaller index on the left\n",
        "            high = mid - 1\n",
        "        else:\n",
        "            low = mid + 1  # look on the right\n",
        "\n",
        "    return ans"
      ],
      "metadata": {
        "id": "hHGDIXjl88AV"
      },
      "execution_count": null,
      "outputs": []
    },
    {
      "cell_type": "code",
      "source": [
        "def getFloorAndCeil(arr, n, x):\n",
        "    f = findFloor(arr, n, x)\n",
        "    c = findCeil(arr, n, x)\n",
        "    return (f, c)"
      ],
      "metadata": {
        "id": "jDigE4Cq9kMT"
      },
      "execution_count": null,
      "outputs": []
    },
    {
      "cell_type": "code",
      "source": [
        "arr = [3, 4, 4, 7, 8, 10]\n",
        "n = 6\n",
        "x = 5\n",
        "getFloorAndCeil(arr, n, x)"
      ],
      "metadata": {
        "colab": {
          "base_uri": "https://localhost:8080/"
        },
        "id": "mSW7Szfs9mvb",
        "outputId": "4874848f-d8fe-4133-f0e2-46f3b4abf0af"
      },
      "execution_count": null,
      "outputs": [
        {
          "output_type": "execute_result",
          "data": {
            "text/plain": [
              "(4, 7)"
            ]
          },
          "metadata": {},
          "execution_count": 37
        }
      ]
    },
    {
      "cell_type": "markdown",
      "source": [
        "## Last Occurence in a sorted array\n",
        "\n",
        "Given a sorted array of N integers, write a program to find the index of the last occurrence of the target key. If the target is not found then return -1.\n",
        "\n",
        "Note: Consider 0 based indexing"
      ],
      "metadata": {
        "id": "0C4UEWG093XJ"
      }
    },
    {
      "cell_type": "markdown",
      "source": [
        "**Solution 1: Naive solution**\n",
        "\n",
        "As the array is already sorted, start traversing the array from the back using a for loop and check whether the element is present or not.\n",
        "If the target element is present, break out of the loop and print the resulting index.\n",
        "If the target element is not present inside the array, then print -1"
      ],
      "metadata": {
        "id": "2YHfAap_9-48"
      }
    },
    {
      "cell_type": "markdown",
      "source": [
        "**Solution 2: Optimised Solution**\n",
        "\n",
        "Initially consider the start=0 and the end=n-1 pointers and the result as -1.\n",
        "\n",
        "Till start does not crossover end pointer compare the mid element\n",
        "\n",
        "If the mid element is equal to the key value, store the mid-value in the result and move the start pointer to mid+1(move leftward)\n",
        "Else if the key value is less than the mid element then end= mid-1(move leftward)\n",
        "Else do start = mid+1 (move rightwards)"
      ],
      "metadata": {
        "id": "HmvfYQr2-Cln"
      }
    },
    {
      "cell_type": "code",
      "source": [
        "def last_occurence(arr, num):\n",
        "    left = 0\n",
        "    length = len(arr)\n",
        "    right = length - 1\n",
        "    res = -1\n",
        "    while left <= right:\n",
        "        mid = left + (right - left) // 2\n",
        "        if arr[mid] == num:\n",
        "            res = mid\n",
        "            left = mid + 1\n",
        "        elif arr[mid] > num:\n",
        "            right = mid - 1\n",
        "        else:\n",
        "            left = mid + 1\n",
        "    return res"
      ],
      "metadata": {
        "id": "V8C8mtDg-QLF"
      },
      "execution_count": null,
      "outputs": []
    },
    {
      "cell_type": "code",
      "source": [
        "last_occurence([3,4,13,13,13,20,40], 13)"
      ],
      "metadata": {
        "colab": {
          "base_uri": "https://localhost:8080/"
        },
        "id": "toHBPV6n_iLa",
        "outputId": "51cd73d1-06d8-432a-932c-4b0b47cae8b1"
      },
      "execution_count": null,
      "outputs": [
        {
          "output_type": "execute_result",
          "data": {
            "text/plain": [
              "4"
            ]
          },
          "metadata": {},
          "execution_count": 39
        }
      ]
    },
    {
      "cell_type": "markdown",
      "source": [
        "## Count Occurrences in Sorted Array\n",
        "\n",
        "**Problem Statement:** You are given a sorted array containing N integers and a number X, you have to find the occurrences of X in the given array."
      ],
      "metadata": {
        "id": "f2XXVXgQ_sVI"
      }
    },
    {
      "cell_type": "code",
      "source": [
        "def firstOccurrence(arr, n, k):\n",
        "    low = 0\n",
        "    high = n - 1\n",
        "    first = -1\n",
        "\n",
        "    while low <= high:\n",
        "        mid = (low + high) // 2\n",
        "        # maybe an answer\n",
        "        if arr[mid] == k:\n",
        "            first = mid\n",
        "            # look for smaller index on the left\n",
        "            high = mid - 1\n",
        "        elif arr[mid] < k:\n",
        "            low = mid + 1  # look on the right\n",
        "        else:\n",
        "            high = mid - 1  # look on the left\n",
        "\n",
        "    return first"
      ],
      "metadata": {
        "id": "mXuz8F_l_zBG"
      },
      "execution_count": null,
      "outputs": []
    },
    {
      "cell_type": "code",
      "source": [
        "def lastOccurrence(arr, n, k):\n",
        "    low = 0\n",
        "    high = n - 1\n",
        "    last = -1\n",
        "\n",
        "    while low <= high:\n",
        "        mid = (low + high) // 2\n",
        "        # maybe an answer\n",
        "        if arr[mid] == k:\n",
        "            last = mid\n",
        "            # look for larger index on the right\n",
        "            low = mid + 1\n",
        "        elif arr[mid] < k:\n",
        "            low = mid + 1  # look on the right\n",
        "        else:\n",
        "            high = mid - 1  # look on the left\n",
        "\n",
        "    return last"
      ],
      "metadata": {
        "id": "RIL7JbM5_7Rn"
      },
      "execution_count": null,
      "outputs": []
    },
    {
      "cell_type": "code",
      "source": [
        "def firstAndLastPosition(arr, n, k):\n",
        "    first = firstOccurrence(arr, n, k)\n",
        "    if first == -1:\n",
        "        return (-1, -1)\n",
        "    last = lastOccurrence(arr, n, k)\n",
        "    return (first, last)\n",
        "\n",
        "def count(arr: [int], n: int, x: int) -> int:\n",
        "    first, last = firstAndLastPosition(arr, n, x)\n",
        "    if first == -1:\n",
        "        return 0\n",
        "    return last - first + 1"
      ],
      "metadata": {
        "id": "l-Fp8OZyA9jt"
      },
      "execution_count": null,
      "outputs": []
    },
    {
      "cell_type": "code",
      "source": [
        "count([3,4,13,13,13,20,40], 7, 13)"
      ],
      "metadata": {
        "colab": {
          "base_uri": "https://localhost:8080/"
        },
        "id": "x1UBkBreA-XS",
        "outputId": "72bc798e-3298-4217-ee35-448d7ec37939"
      },
      "execution_count": null,
      "outputs": [
        {
          "output_type": "execute_result",
          "data": {
            "text/plain": [
              "3"
            ]
          },
          "metadata": {},
          "execution_count": 54
        }
      ]
    },
    {
      "cell_type": "markdown",
      "source": [
        "## Search Element in a Rotated Sorted Array\n",
        "\n",
        "**Problem Statement:** Given an integer array arr of size N, sorted in ascending order (with distinct values) and a target value k. Now the array is rotated at some pivot point unknown to you. Find the index at which k is present and if k is not present return -1."
      ],
      "metadata": {
        "id": "PDGurmMZBWz4"
      }
    },
    {
      "cell_type": "markdown",
      "source": [
        "Place the 2 pointers i.e. low and high: Initially, we will place the pointers like this: low will point to the first index, and high will point to the last index.\n",
        "Calculate the ‘mid’: Now, inside a loop, we will calculate the value of ‘mid’ using the following formula:\n",
        "mid = (low+high) // 2 ( ‘//’ refers to integer division)\n",
        "Check if arr[mid] == target: If it is, return the index mid.\n",
        "Identify the sorted half, check where the target is located, and then eliminate one half accordingly:\n",
        "If arr[low] <= arr[mid]: This condition ensures that the left part is sorted.\n",
        "If arr[low] <= target && target <= arr[mid]: It signifies that the target is in this sorted half. So, we will eliminate the right half (high = mid-1).\n",
        "Otherwise, the target does not exist in the sorted half. So, we will eliminate this left half by doing low = mid+1.\n",
        "Otherwise, if the right half is sorted:\n",
        "If arr[mid] <= target && target <= arr[high]: It signifies that the target is in this sorted right half. So, we will eliminate the left half (low = mid+1).\n",
        "Otherwise, the target does not exist in this sorted half. So, we will eliminate this right half by doing high = mid-1.\n",
        "Once, the ‘mid’ points to the target, the index will be returned.\n",
        "This process will be inside a loop and the loop will continue until low crosses high. If no index is found, we will return -1."
      ],
      "metadata": {
        "id": "PMcMeoRYGIKo"
      }
    },
    {
      "cell_type": "code",
      "source": [
        "def search(arr, n, k):\n",
        "    low = 0\n",
        "    high = n - 1\n",
        "    while low <= high:\n",
        "        mid = (low + high) // 2\n",
        "\n",
        "        # if mid points the target\n",
        "        if arr[mid] == k:\n",
        "            return mid\n",
        "\n",
        "        # if left part is sorted\n",
        "        if arr[low] <= arr[mid]:\n",
        "            if arr[low] <= k and k <= arr[mid]:\n",
        "                # element exists\n",
        "                high = mid - 1\n",
        "            else:\n",
        "                # element does not exist\n",
        "                low = mid + 1\n",
        "        else:  # if right part is sorted\n",
        "            if arr[mid] <= k and k <= arr[high]:\n",
        "                # element exists\n",
        "                low = mid + 1\n",
        "            else:\n",
        "                # element does not exist\n",
        "                high = mid - 1\n",
        "    return -1"
      ],
      "metadata": {
        "id": "pMKHrNKqGSA4"
      },
      "execution_count": null,
      "outputs": []
    },
    {
      "cell_type": "code",
      "source": [
        "arr = [7, 8, 9, 1, 2, 3, 4, 5, 6]\n",
        "n = 9\n",
        "k = 1\n",
        "search(arr, n, k)"
      ],
      "metadata": {
        "colab": {
          "base_uri": "https://localhost:8080/"
        },
        "id": "IQul03QpGU7O",
        "outputId": "3872add7-fc6a-4abc-cd49-354ebaa38c0a"
      },
      "execution_count": null,
      "outputs": [
        {
          "output_type": "execute_result",
          "data": {
            "text/plain": [
              "3"
            ]
          },
          "metadata": {},
          "execution_count": 56
        }
      ]
    },
    {
      "cell_type": "markdown",
      "source": [
        "## Search Element in Rotated Sorted Array II\n",
        "**Problem Statement:** Given an integer array arr of size N, sorted in ascending order (may contain duplicate values) and a target value k. Now the array is rotated at some pivot point unknown to you. Return True if k is present and otherwise, return False."
      ],
      "metadata": {
        "id": "K_Phhjl9Hk7y"
      }
    },
    {
      "cell_type": "markdown",
      "source": [
        "**Algorithm:**\n",
        "The steps are as follows:\n",
        "\n",
        "Place the 2 pointers i.e. low and high: Initially, we will place the pointers like this: low will point to the first index, and high will point to the last index.\n",
        "Calculate the ‘mid’: Now, inside a loop, we will calculate the value of ‘mid’ using the following formula:\n",
        "mid = (low+high) // 2 ( ‘//’ refers to integer division)\n",
        "Check if arr[mid] = target: If it is, return True.\n",
        "Check if arr[low] = arr[mid] = arr[high]: If this condition is satisfied, we will just increment the low pointer and decrement the high pointer by one step. We will not perform the later steps until this condition is no longer satisfied. So, we will continue to the next iteration from this step.\n",
        "Identify the sorted half, check where the target is located, and then eliminate one half accordingly:\n",
        "If arr[low] <= arr[mid]: This condition ensures that the left part is sorted.\n",
        "If arr[low] <= target && target <= arr[mid]: It signifies that the target is in this sorted half. So, we will eliminate the right half (high = mid-1).\n",
        "Otherwise, the target does not exist in the sorted half. So, we will eliminate this left half by doing low = mid+1.\n",
        "Otherwise, if the right half is sorted:\n",
        "If arr[mid] <= target && target <= arr[high]: It signifies that the target is in this sorted right half. So, we will eliminate the left half (low = mid+1).\n",
        "Otherwise, the target does not exist in this sorted half. So, we will eliminate this right half by doing high = mid-1.\n",
        "Once, the ‘mid’ points to the target, we will return True.\n",
        "This process will be inside a loop and the loop will continue until low crosses high. If no element is found, we will return False."
      ],
      "metadata": {
        "id": "oqlXEZedHrTO"
      }
    },
    {
      "cell_type": "code",
      "source": [
        "def searchInARotatedSortedArrayII(arr, k):\n",
        "    n = len(arr)  # size of the array\n",
        "    low, high = 0, n - 1\n",
        "\n",
        "    while low <= high:\n",
        "        mid = (low + high) // 2\n",
        "\n",
        "        # if mid points to the target\n",
        "        if arr[mid] == k:\n",
        "            return True\n",
        "\n",
        "        # Edge case:\n",
        "        if arr[low] == arr[mid] and arr[mid] == arr[high]:\n",
        "            low += 1\n",
        "            high -= 1\n",
        "            continue\n",
        "\n",
        "        # if left part is sorted\n",
        "        if arr[low] <= arr[mid]:\n",
        "            if arr[low] <= k <= arr[mid]:\n",
        "                # element exists\n",
        "                high = mid - 1\n",
        "            else:\n",
        "                # element does not exist\n",
        "                low = mid + 1\n",
        "        else:  # if right part is sorted\n",
        "            if arr[mid] <= k <= arr[high]:\n",
        "                # element exists\n",
        "                low = mid + 1\n",
        "            else:\n",
        "                # element does not exist\n",
        "                high = mid - 1\n",
        "\n",
        "    return False"
      ],
      "metadata": {
        "id": "8NaaawAgHu0d"
      },
      "execution_count": null,
      "outputs": []
    },
    {
      "cell_type": "code",
      "source": [
        "arr = [7, 8, 1, 2, 3, 3, 3, 4, 5, 6]\n",
        "k = 3\n",
        "searchInARotatedSortedArrayII(arr, k)"
      ],
      "metadata": {
        "colab": {
          "base_uri": "https://localhost:8080/"
        },
        "id": "X8MGSscgHzNU",
        "outputId": "2a231275-3a34-4a58-8ec7-d716c693a5b7"
      },
      "execution_count": null,
      "outputs": [
        {
          "output_type": "execute_result",
          "data": {
            "text/plain": [
              "True"
            ]
          },
          "metadata": {},
          "execution_count": 59
        }
      ]
    },
    {
      "cell_type": "markdown",
      "source": [
        "## Minimum in Rotated Sorted Array\n",
        "**Problem Statement:** Given an integer array arr of size N, sorted in ascending order (with distinct values). Now the array is rotated between 1 to N times which is unknown. Find the minimum element in the array."
      ],
      "metadata": {
        "id": "g8Y8xy8wItKw"
      }
    },
    {
      "cell_type": "code",
      "source": [
        "import sys\n",
        "def findMin(arr):\n",
        "    low = 0\n",
        "    high = len(arr) - 1\n",
        "    ans = sys.maxsize\n",
        "\n",
        "    while low <= high:\n",
        "        mid = (low + high) // 2\n",
        "\n",
        "        # search space is already sorted\n",
        "        # then arr[low] will always be\n",
        "        # the minimum in that search space:\n",
        "        if arr[low] <= arr[high]:\n",
        "            ans = min(ans, arr[low])\n",
        "            break\n",
        "\n",
        "        if arr[low] <= arr[mid]:  # if left part is sorted\n",
        "            ans = min(ans, arr[low])  # keep the minimum\n",
        "            low = mid + 1  # eliminate left half\n",
        "\n",
        "        else:  # if right part is sorted\n",
        "            ans = min(ans, arr[mid])  # keep the minimum\n",
        "            high = mid - 1  # eliminate right half\n",
        "\n",
        "    return ans"
      ],
      "metadata": {
        "id": "-PowcRuOIthq"
      },
      "execution_count": null,
      "outputs": []
    },
    {
      "cell_type": "code",
      "source": [
        "arr = [4, 5, 6, 7, 0, 1, 2, 3]\n",
        "findMin(arr)"
      ],
      "metadata": {
        "colab": {
          "base_uri": "https://localhost:8080/"
        },
        "id": "rEXPv_78I3oo",
        "outputId": "d3bfa1c3-73b7-4ba3-bda0-23c4662ea57e"
      },
      "execution_count": null,
      "outputs": [
        {
          "output_type": "execute_result",
          "data": {
            "text/plain": [
              "0"
            ]
          },
          "metadata": {},
          "execution_count": 62
        }
      ]
    },
    {
      "cell_type": "markdown",
      "source": [
        "## Find out how many times the array has been rotated\n",
        "\n",
        "**Problem Statement:** Given an integer array arr of size N, sorted in ascending order (with distinct values). Now the array is rotated between 1 to N times which is unknown. Find how many times the array has been rotated."
      ],
      "metadata": {
        "id": "QIuMu1G6JHNd"
      }
    },
    {
      "cell_type": "markdown",
      "source": [
        "**Brute force Algorithm:**\n",
        "First, we will declare an ‘ans’ and an ‘index’ variable initialized with a large number and -1 respectively.\n",
        "Next, we will iterate through the array and compare each element with the variable called ‘ans’. Whenever we encounter an element ‘arr[i]’ that is smaller than ‘ans’, we will update ‘ans’ with the value of ‘arr[i]’ and also update the ‘index’ variable with the corresponding index value, ‘i’.\n",
        "Finally, we will return ‘index’ as our answer."
      ],
      "metadata": {
        "id": "7mMOcQ60Ked5"
      }
    },
    {
      "cell_type": "code",
      "source": [
        "import sys\n",
        "def findKRotation(arr):\n",
        "    n = len(arr)  # Size of array\n",
        "    ans = float('inf')\n",
        "    index = -1\n",
        "    for i in range(n):\n",
        "        if arr[i] < ans:\n",
        "            ans = arr[i]\n",
        "            index = i\n",
        "    return index"
      ],
      "metadata": {
        "id": "4tgvtw4oKhu_"
      },
      "execution_count": null,
      "outputs": []
    },
    {
      "cell_type": "markdown",
      "source": [
        "**Optimal Algorithm:**\n",
        "The steps are as follows:\n",
        "\n",
        "To begin, we will declare the variable ‘ans’ and initialize it with the largest possible value. Additionally, we will have two pointers, ‘low’ and ‘high’, as usual. In this case, we will also introduce an ‘index’ variable and initialize it with -1.\n",
        "\n",
        "Place the 2 pointers i.e. low and high: Initially, we will place the pointers like this: low will point to the first index and high will point to the last index.\n",
        "\n",
        "Calculate the ‘mid’: Now, inside a loop, we will calculate the value of ‘mid’ using the following formula:\n",
        "\n",
        "mid = (low+high) // 2 ( ‘//’ refers to integer division)\n",
        "\n",
        "If arr[low] <= arr[high]: In this case, the array from index low to high is completely sorted. Therefore, we can select the minimum element, arr[low].\n",
        "\n",
        "Now, if arr[low] < ans, we will update ‘ans’ with the value arr[low] and ‘index’ with the corresponding index low.\n",
        "\n",
        "Once this is done, there is no need to continue with the binary search algorithm. So, we will break from this step.\n",
        "\n",
        "Identify the sorted half, and after picking the leftmost element, eliminate that half.\n",
        "\n",
        "If arr[low] <= arr[mid]:\n",
        "\n",
        "This condition ensures that the left part is sorted. So, we will pick the leftmost element i.e. arr[low].\n",
        "\n",
        "Now, if arr[low] < ans, we will update ‘ans’ with the value arr[low] and ‘index’ with the corresponding index low.\n",
        "\n",
        "After that, we will eliminate this left half(i.e. low = mid+1).\n",
        "\n",
        "Otherwise, if the right half is sorted:  This condition ensures that the right half is sorted. So, we will pick the leftmost element i.e. arr[mid].\n",
        "\n",
        "Now, if arr[mid] < ans, we will update ‘ans’ with the value arr[mid] and ‘index’ with the corresponding index mid.\n",
        "\n",
        "After that, we will eliminate this right half(i.e. high = mid-1).\n",
        "\n",
        "This process will be inside a loop and the loop will continue until low crosses high. Finally, we will return the ‘index’ variable that stores the index of the minimum element."
      ],
      "metadata": {
        "id": "bemTnHLpKrpe"
      }
    },
    {
      "cell_type": "code",
      "source": [
        "import sys\n",
        "def findKRotation(arr):\n",
        "    low = 0\n",
        "    high = len(arr) - 1\n",
        "    ans = float('inf')\n",
        "    index = -1\n",
        "    while low <= high:\n",
        "        mid = (low + high) // 2\n",
        "\n",
        "        # If search space is already sorted,\n",
        "        # then arr[low] will always be\n",
        "        # the minimum in that search space\n",
        "        if arr[low] <= arr[high]:\n",
        "            if arr[low] < ans:\n",
        "                index = low\n",
        "                ans = arr[low]\n",
        "            break\n",
        "\n",
        "        # If left part is sorted\n",
        "        if arr[low] <= arr[mid]:\n",
        "            # Keep the minimum\n",
        "            if arr[low] < ans:\n",
        "                index = low\n",
        "                ans = arr[low]\n",
        "\n",
        "            # Eliminate left half\n",
        "            low = mid + 1\n",
        "        else:  # If right part is sorted\n",
        "            # Keep the minimum\n",
        "            if arr[mid] < ans:\n",
        "                index = mid\n",
        "                ans = arr[mid]\n",
        "\n",
        "            # Eliminate right half\n",
        "            high = mid - 1\n",
        "\n",
        "    return index"
      ],
      "metadata": {
        "id": "obWqntxeK3Wt"
      },
      "execution_count": null,
      "outputs": []
    },
    {
      "cell_type": "markdown",
      "source": [
        "## Search Single Element in a sorted array\n",
        "**Problem Statement:** Given an array of N integers. Every number in the array except one appears twice. Find the single number in the array."
      ],
      "metadata": {
        "id": "Z5APRsffLOkk"
      }
    },
    {
      "cell_type": "code",
      "source": [
        "def singleNonDuplicate(arr):\n",
        "    n = len(arr)  # Size of the array\n",
        "\n",
        "    # Edge cases:\n",
        "    if n == 1:\n",
        "        return arr[0]\n",
        "    if arr[0] != arr[1]:\n",
        "        return arr[0]\n",
        "    if arr[n - 1] != arr[n - 2]:\n",
        "        return arr[n - 1]\n",
        "\n",
        "    low = 1\n",
        "    high = n - 2\n",
        "    while low <= high:\n",
        "        mid = (low + high) // 2\n",
        "\n",
        "        # If arr[mid] is the single element:\n",
        "        if arr[mid] != arr[mid + 1] and arr[mid] != arr[mid - 1]:\n",
        "            return arr[mid]\n",
        "\n",
        "        # We are in the left:\n",
        "        if (mid % 2 == 1 and arr[mid] == arr[mid - 1]) or (mid % 2 == 0 and arr[mid] == arr[mid + 1]):\n",
        "            # Eliminate the left half:\n",
        "            low = mid + 1\n",
        "        # We are in the right:\n",
        "        else:\n",
        "            # Eliminate the right half:\n",
        "            high = mid - 1\n",
        "\n",
        "    # Dummy return statement:\n",
        "    return -1"
      ],
      "metadata": {
        "id": "J5wPSGs_LUs2"
      },
      "execution_count": null,
      "outputs": []
    },
    {
      "cell_type": "markdown",
      "source": [
        "## Peak element in Array\n",
        "\n",
        "**Problem Statement:** Given an array of length N. Peak element is defined as the element greater than both of its neighbors. Formally, if ‘arr[i]’ is the peak element, ‘arr[i – 1]’ < ‘arr[i]’ and ‘arr[i + 1]’ < ‘arr[i]’. Find the index(0-based) of a peak element in the array. If there are multiple peak numbers, return the index of any peak number."
      ],
      "metadata": {
        "id": "epnbp7heMV1R"
      }
    },
    {
      "cell_type": "markdown",
      "source": [
        "**Naive Approach:**\n",
        "\n",
        "A simple approach involves iterating through the array and checking specific conditions for each element to determine the peak. By considering all the necessary conditions, including edge cases, our final condition can be summarized as follows:\n",
        "If ((i == 0 or arr[i-1] < arr[i]) and (i == n-1 or arr[i] > arr[i+1])), we have found a peak. In such cases, we can return the index of the element satisfying this condition.\n",
        "\n",
        "Algorithm:\n",
        "We will start traversing the array and for every index, we will check the below condition.\n",
        "If((i == 0 or arr[i-1] < arr[i]) and (i == n-1 or arr[i] > arr[i+1])): whenever this condition is true for an element, we should return its index."
      ],
      "metadata": {
        "id": "3rfHBrEbMfKP"
      }
    },
    {
      "cell_type": "code",
      "source": [
        "def findPeakElement(arr: [int]) -> int:\n",
        "    n = len(arr) # Size of the array\n",
        "\n",
        "    for i in range(n):\n",
        "        # Checking for the peak:\n",
        "        if (i == 0 or arr[i - 1] < arr[i]) and (i == n - 1 or arr[i] > arr[i + 1]):\n",
        "            return i\n",
        "\n",
        "    # Dummy return statement\n",
        "    return -1"
      ],
      "metadata": {
        "id": "C3LTztQNMjBU"
      },
      "execution_count": null,
      "outputs": []
    },
    {
      "cell_type": "markdown",
      "source": [
        "**Optimal Approach(Using Binary Search):**\n",
        "\n",
        "Algorithm:\n",
        "Note: At the start of the algorithm, we address the edge cases of identifying the peak element without requiring separate conditions during the check for arr[mid] inside the loop. And the search space will be from index 1 to n-2 as indices 0 and n-1 have already been checked in the edge cases.\n",
        "\n",
        "The final steps will be as follows:\n",
        "\n",
        "If n == 1: This means the array size is 1. If the array contains only one element, we will return that index i.e. 0.\n",
        "\n",
        "If arr[0] > arr[1]: This means the very first element of the array is the peak element. So, we will return the index 0.\n",
        "\n",
        "If arr[n-1] > arr[n-2]: This means the last element of the array is the peak element. So, we will return the index n-1.\n",
        "\n",
        "Place the 2 pointers i.e. low and high: Initially, we will place the pointers excluding index 0 and n-1 like this: low will point to index 1, and high will point to index n-2 i.e. the second last index.\n",
        "\n",
        "Calculate the ‘mid’: Now, inside a loop, we will calculate the value of ‘mid’ using the following formula:\n",
        "\n",
        "mid = (low+high) // 2 ( ‘//’ refers to integer division)\n",
        "\n",
        "Check if arr[mid] is the peak element:\n",
        "\n",
        "If arr[mid] > arr[mid-1] and arr[mid] > arr[mid+1]: If this condition is true for arr[mid], we can conclude arr[mid] is the peak element. We will return the index ‘mid’.\n",
        "\n",
        "If arr[mid] > arr[mid-1]: This means we are in the left half and we should eliminate it as our peak element appears on the right. So, we will do this:\n",
        "low = mid+1.\n",
        "\n",
        "Otherwise, we are in the right half and we should eliminate it as our peak element appears on the left. So, we will do this: high = mid-1. This case also handles the case for the index ‘mid’ being a common point of a decreasing and increasing sequence. It will consider the left peak and eliminate the right peak."
      ],
      "metadata": {
        "id": "bf-Do0ObMoFj"
      }
    },
    {
      "cell_type": "code",
      "source": [
        "def findPeakElement(arr: [int]) -> int:\n",
        "    n = len(arr)  # Size of the array\n",
        "\n",
        "    # Edge cases:\n",
        "    if n == 1:\n",
        "        return 0\n",
        "    if arr[0] > arr[1]:\n",
        "        return 0\n",
        "    if arr[n - 1] > arr[n - 2]:\n",
        "        return n - 1\n",
        "\n",
        "    low = 1\n",
        "    high = n - 2\n",
        "    while low <= high:\n",
        "        mid = (low + high) // 2\n",
        "\n",
        "        # If arr[mid] is the peak:\n",
        "        if arr[mid - 1] < arr[mid] and arr[mid] > arr[mid + 1]:\n",
        "            return mid\n",
        "\n",
        "        # If we are in the left:\n",
        "        if arr[mid] > arr[mid - 1]:\n",
        "            low = mid + 1\n",
        "\n",
        "        # If we are in the right:\n",
        "        # Or, arr[mid] is a common point:\n",
        "        else:\n",
        "            high = mid - 1\n",
        "\n",
        "    # Dummy return statement\n",
        "    return -1"
      ],
      "metadata": {
        "id": "3siGdPFFM0Kg"
      },
      "execution_count": null,
      "outputs": []
    },
    {
      "cell_type": "markdown",
      "source": [
        "## Finding Sqrt of a number using Binary Search\n"
      ],
      "metadata": {
        "id": "6nFmMKDdNCnV"
      }
    },
    {
      "cell_type": "code",
      "source": [
        "def floorSqrt(n):\n",
        "    low = 1\n",
        "    high = n\n",
        "    # Binary search on the answers:\n",
        "    while low <= high:\n",
        "        mid = (low + high) // 2\n",
        "        val = mid * mid\n",
        "        if val <= n:\n",
        "            # Eliminate the left half:\n",
        "            low = mid + 1\n",
        "        else:\n",
        "            # Eliminate the right half:\n",
        "            high = mid - 1\n",
        "    return high"
      ],
      "metadata": {
        "id": "D26PymKeNEKY"
      },
      "execution_count": null,
      "outputs": []
    },
    {
      "cell_type": "markdown",
      "source": [
        "## Finding Nth Root using Binary Search"
      ],
      "metadata": {
        "id": "bwERjxsTNWxR"
      }
    },
    {
      "cell_type": "code",
      "source": [
        "def func(mid, n, m):\n",
        "    ans = 1\n",
        "    for i in range(1, n + 1):\n",
        "        ans *= mid\n",
        "        if ans > m:\n",
        "            return 2\n",
        "    if ans == m:\n",
        "        return 1\n",
        "    return 0\n",
        "\n",
        "def NthRoot(n: int, m: int) -> int:\n",
        "    low = 1\n",
        "    high = m\n",
        "    while low <= high:\n",
        "        mid = (low + high) // 2\n",
        "        midN = func(mid, n, m)\n",
        "        if midN == 1:\n",
        "            return mid\n",
        "        elif midN == 0:\n",
        "            low = mid + 1\n",
        "        else:\n",
        "            high = mid - 1\n",
        "    return -1\n",
        "\n",
        "n = 3\n",
        "m = 27\n",
        "ans = NthRoot(n, m)\n",
        "print(\"The answer is:\", ans)\n"
      ],
      "metadata": {
        "colab": {
          "base_uri": "https://localhost:8080/"
        },
        "id": "y4HGQSiANkON",
        "outputId": "de7bcd4a-7942-48ef-ad3f-7f77b56b4532"
      },
      "execution_count": null,
      "outputs": [
        {
          "output_type": "stream",
          "name": "stdout",
          "text": [
            "The answer is: 3\n"
          ]
        }
      ]
    }
  ]
}